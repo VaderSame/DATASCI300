{
 "cells": [
  {
   "cell_type": "code",
   "execution_count": 1,
   "metadata": {},
   "outputs": [],
   "source": [
    "# You can import *ANYTHING* you want here.\n",
    "import numpy as np\n",
    "import matplotlib.pyplot as plt\n",
    "import matplotlib as mpl\n",
    "from sklearn.tree import DecisionTreeClassifier\n",
    "from sklearn.ensemble import BaggingClassifier, RandomForestClassifier\n",
    "from sklearn.metrics import accuracy_score\n",
    "import pandas as pd\n",
    "from tqdm import tqdm # this is just a tool to show a progress bar as your simulations are running"
   ]
  },
  {
   "cell_type": "markdown",
   "metadata": {},
   "source": [
    "# Assignment 7: Comparing Tree Models\n",
    "\n",
    "Simulation is an incredibly useful tool in data science.  We can use simulation to evaluate how algorithms perform against ground truth, and how algorithms compare to one another.\n",
    "\n",
    "In this assignment, you will be implementing and extending the nested spheres simulation study found in *Elements of Statistical Learning* page 339. https://web.stanford.edu/~hastie/ElemStatLearn/\n",
    "\n",
    "# Nested Spheres\n",
    "\n",
    "Consider a dataset which contains 10 features $X_1 \\,, X_2 \\,, \\cdots \\,, X_{10}$.  The features are standard independent Gaussian random variables.  That is to say\n",
    "\n",
    "$$ X_j \\sim \\operatorname{Normal}(0,1) \\quad \\forall j = 1 \\dots 10$$\n",
    "\n",
    "We are going to use these features to study a classification problem.  You will have to create the target variable, $Y$ by computing the following rule:\n",
    "\n",
    "$$ Y = \\begin{cases}  1 \\quad \\text{ if } \\sum_{j=1}^{10} X^2_j>9.34 \\\\ 0 \\quad  \\text{ else } \\end{cases}$$\n",
    "\n",
    "# The Simulation Study\n",
    "\n",
    "Follow these steps to complete the assignment. "
   ]
  },
  {
   "cell_type": "markdown",
   "metadata": {},
   "source": [
    "### Part 1 ( X / 25 pts )\n",
    "Write a function, `generate_data`, that takes a dataset size N and creates a dataset according to the rule above, returning the feature matrix `X` and the labels `y`."
   ]
  },
  {
   "cell_type": "code",
   "execution_count": null,
   "metadata": {},
   "outputs": [],
   "source": [
    "def generate_data(N):\n",
    "    # Generate a feature matrix X with 10 features, each feature is sampled from a normal distribution\n",
    "    X = np.random.normal(0, 1, (N, 10))\n",
    "    \n",
    "    # Calculate the labels y based on the sum of squares condition\n",
    "    y = (np.sum(X**2, axis=1) > 9.34).astype(int)\n",
    "\n",
    "    return X,y"
   ]
  },
  {
   "cell_type": "markdown",
   "metadata": {},
   "source": [
    "## Part 2 ( X / 25 pts )\n",
    "\n",
    "Write a function `run_simulation` that accepts two numbers, Ntrain and Ntest. It should generate a training set and testing set using your `generate_data` function and then train **four classifiers**. The first should be a bagged decision tree, the second should be a random forest with `max_features=1`, the third should be a random forest with `max_features=3`, and the fourth can be anything you like, for example a random forest with more features or an XGboost model. Use 500 trees in your random forests and the bagged classifier. The function should return the accuracy for each of these models estimated using the corresponding test set you generated."
   ]
  },
  {
   "cell_type": "code",
   "execution_count": 4,
   "metadata": {},
   "outputs": [],
   "source": [
    "def run_simulation(Ntrain,Ntest):\n",
    "    # Code to generate data and run one simulation\n",
    "    \n",
    "    # Generate training and test sets\n",
    "    X_train, y_train = generate_data(Ntrain)\n",
    "    X_test, y_test = generate_data(Ntest)\n",
    "    \n",
    "    # Initialize models\n",
    "    # 1. Bagged Decision Tree\n",
    "    bagged_tree = BaggingClassifier(n_estimators=500, random_state=0)\n",
    "    \n",
    "    # 2. Random Forest with max_features=1\n",
    "    rf_max_feat_1 = RandomForestClassifier(n_estimators=500, max_features=1, random_state=0)\n",
    "    \n",
    "    # 3. Random Forest with max_features=3\n",
    "    rf_max_feat_3 = RandomForestClassifier(n_estimators=500, max_features=3, random_state=0)\n",
    "    \n",
    "    # 4. Custom Classifier (Random Forest with default max_features or another model like XGBoost)\n",
    "    rf_default = RandomForestClassifier(n_estimators=500, random_state=0)\n",
    "    \n",
    "    # Train each model and compute accuracy\n",
    "    # 1. Bagged Decision Tree\n",
    "    bagged_tree.fit(X_train, y_train)\n",
    "    y_pred_bagged = bagged_tree.predict(X_test)\n",
    "    bag_accuracy = accuracy_score(y_test, y_pred_bagged)\n",
    "    \n",
    "    # 2. Random Forest with max_features=1\n",
    "    rf_max_feat_1.fit(X_train, y_train)\n",
    "    y_pred_rf_mf1 = rf_max_feat_1.predict(X_test)\n",
    "    rf_mf1_accuracy = accuracy_score(y_test, y_pred_rf_mf1)\n",
    "    \n",
    "    # 3. Random Forest with max_features=3\n",
    "    rf_max_feat_3.fit(X_train, y_train)\n",
    "    y_pred_rf_mf3 = rf_max_feat_3.predict(X_test)\n",
    "    rf_mf3_accuracy = accuracy_score(y_test, y_pred_rf_mf3)\n",
    "    \n",
    "    # 4. Custom Classifier\n",
    "    rf_default.fit(X_train, y_train)\n",
    "    y_pred_custom = rf_default.predict(X_test)\n",
    "    my_classifier_accuracy = accuracy_score(y_test, y_pred_custom)\n",
    "    \n",
    "    \n",
    "    return bag_accuracy, rf_mf1_accuracy, rf_mf3_accuracy, my_classifier_accuracy"
   ]
  },
  {
   "cell_type": "markdown",
   "metadata": {},
   "source": [
    "## Part 3 ( X / 25 pts )\n",
    "\n",
    "Run 50 simulations using a training set of size 1000 and a test set of size 5000 and record all the results in four vectors, one for each type of model. *You should probably debug your code using smaller training and test set sized first because these will take a while. The full simulation takes 10 minutes on my old 2.8GHz core i5 laptop, 5 min on my new-ish M2 MacBook Air.*"
   ]
  },
  {
   "cell_type": "code",
   "execution_count": null,
   "metadata": {},
   "outputs": [
    {
     "name": "stderr",
     "output_type": "stream",
     "text": [
      "Running Simulations: 100%|██████████| 50/50 [05:50<00:00,  7.01s/it]\n"
     ]
    }
   ],
   "source": [
    "#Setup code to record results here:\n",
    "\n",
    "# Set the number of simulations\n",
    "Nsim = 50\n",
    "\n",
    "# Initialize lists to store results for each model\n",
    "bagged_accuracies = []\n",
    "rf_mf1_accuracies = []\n",
    "rf_mf3_accuracies = []\n",
    "custom_classifier_accuracies = []\n",
    "\n",
    "# Simulation loop\n",
    "for sim in tqdm(range(Nsim), desc=\"Running Simulations\"):\n",
    "    # Run a single simulation\n",
    "    bag_accuracy, rf_mf1_accuracy, rf_mf3_accuracy, my_classifier_accuracy = run_simulation(1000, 5000)\n",
    "    \n",
    "    # Append the results to respective lists\n",
    "    bagged_accuracies.append(bag_accuracy)\n",
    "    rf_mf1_accuracies.append(rf_mf1_accuracy)\n",
    "    rf_mf3_accuracies.append(rf_mf3_accuracy)\n",
    "    custom_classifier_accuracies.append(my_classifier_accuracy)\n",
    "\n",
    "# Convert lists to numpy arrays for easy manipulation if needed\n",
    "bagged_accuracies = np.array(bagged_accuracies)\n",
    "rf_mf1_accuracies = np.array(rf_mf1_accuracies)\n",
    "rf_mf3_accuracies = np.array(rf_mf3_accuracies)\n",
    "custom_classifier_accuracies = np.array(custom_classifier_accuracies)\n",
    "\n"
   ]
  },
  {
   "cell_type": "code",
   "execution_count": 6,
   "metadata": {},
   "outputs": [
    {
     "name": "stdout",
     "output_type": "stream",
     "text": [
      "Mean Accuracies over 50 simulations:\n",
      "Bagged Decision Tree: 0.8325960000000001\n",
      "Random Forest (max_features=1): 0.8651199999999999\n",
      "Random Forest (max_features=3): 0.8465959999999998\n",
      "Custom Classifier: 0.8465959999999998\n"
     ]
    }
   ],
   "source": [
    "print(\"Mean Accuracies over 50 simulations:\")\n",
    "print(\"Bagged Decision Tree:\", np.mean(bagged_accuracies))\n",
    "print(\"Random Forest (max_features=1):\", np.mean(rf_mf1_accuracies))\n",
    "print(\"Random Forest (max_features=3):\", np.mean(rf_mf3_accuracies))\n",
    "print(\"Custom Classifier:\", np.mean(custom_classifier_accuracies))"
   ]
  },
  {
   "cell_type": "markdown",
   "metadata": {},
   "source": [
    "## Part 4 (X / 25 pts) \n",
    "Plot the error rates for each model using a boxplot for each one. The four models should be across the x-axis, and the y-axis should be test accuracy."
   ]
  },
  {
   "cell_type": "code",
   "execution_count": 8,
   "metadata": {},
   "outputs": [
    {
     "data": {
      "image/png": "[encoded data removed]",
      "text/plain": [
       "<Figure size 1000x600 with 1 Axes>"
      ]
     },
     "metadata": {},
     "output_type": "display_data"
    }
   ],
   "source": [
    "#Plot the error rates as a box plot by model to complete the assignment.\n",
    "error_bagging = 1 - np.array(bagged_accuracies)\n",
    "error_rf1 = 1 - np.array(rf_mf1_accuracies)\n",
    "error_rf3 = 1 - np.array(rf_mf3_accuracies)\n",
    "error_rf7 = 1 - np.array(custom_classifier_accuracies)\n",
    "\n",
    "# Prepare data for boxplot\n",
    "error_data = [error_bagging, error_rf1, error_rf3, error_rf7]\n",
    "model_names = [\"Bagged Tree\", \"RF (max_features=1)\", \"RF (max_features=3)\", \"RF (max_features=7)\"]\n",
    "\n",
    "# Plotting\n",
    "plt.figure(figsize=(10, 6))\n",
    "plt.boxplot(error_data, labels=model_names)\n",
    "plt.xlabel(\"Model\")\n",
    "plt.ylabel(\"Error Rate\")\n",
    "plt.title(\"Error Rates for Each Model Across 50 Simulations\")\n",
    "plt.show()"
   ]
  }
 ],
 "metadata": {
  "kernelspec": {
   "display_name": "base",
   "language": "python",
   "name": "python3"
  },
  "language_info": {
   "codemirror_mode": {
    "name": "ipython",
    "version": 3
   },
   "file_extension": ".py",
   "mimetype": "text/x-python",
   "name": "python",
   "nbconvert_exporter": "python",
   "pygments_lexer": "ipython3",
   "version": "3.12.4"
  }
 },
 "nbformat": 4,
 "nbformat_minor": 4
}
